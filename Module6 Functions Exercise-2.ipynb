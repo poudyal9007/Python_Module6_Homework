{
 "cells": [
  {
   "cell_type": "markdown",
   "metadata": {},
   "source": [
    "1. Round 4.5667 to the nearest hundreth using a build-in function, round()."
   ]
  },
  {
   "cell_type": "code",
   "execution_count": null,
   "metadata": {},
   "outputs": [],
   "source": [
    "round(4.5667, 2)"
   ]
  },
  {
   "cell_type": "markdown",
   "metadata": {},
   "source": [
    "2. Convert \"657\" to an integer data type"
   ]
  },
  {
   "cell_type": "code",
   "execution_count": null,
   "metadata": {},
   "outputs": [],
   "source": [
    "str_var1 = \"657\"\n",
    "num_var1 = int(str_var1)\n",
    "print(num_var1)\n",
    "print(f\"str_var1's value is {str_var1} and type is {type(str_var1)}\")\n",
    "print(f\"num_var1's value is {num_var1} and type is {type(num_var1)}\")"
   ]
  },
  {
   "cell_type": "markdown",
   "metadata": {},
   "source": [
    "3.\n",
    "Write a program to get two numbers from a user. Then, create a secret code where a code consists of 6 numbers and each number is randomly generated number between two numbers from a user. "
   ]
  },
  {
   "cell_type": "code",
   "execution_count": null,
   "metadata": {},
   "outputs": [],
   "source": [
    "import random as rand\n",
    "\n",
    "start_no = int(input(\"Enter a first number: \"))\n",
    "end_no = int(input(\"Enter a second number: \"))\n",
    "\n",
    "code1 = rand.randint(start_no, end_no)\n",
    "code2 = rand.randint(start_no, end_no)\n",
    "code3 = rand.randint(start_no, end_no)\n",
    "code4 = rand.randint(start_no, end_no)\n",
    "code5 = rand.randint(start_no, end_no)\n",
    "code6 = rand.randint(start_no, end_no)\n",
    "\n",
    "print(f\"The secret code is {code1} {code2} {code3} {code4} {code5} {code6}\")"
   ]
  },
  {
   "cell_type": "markdown",
   "metadata": {},
   "source": [
    "4.\n",
    "Write a program to center align below text where number of characters per line is 40:\n",
    "\n",
    "    Hickory, dickory, dock,\n",
    "    The mouse ran up the clock.\n",
    "    The clock struck one,\n",
    "    The mouse ran down,\n",
    "    Hickory, dickory, dock\n",
    "\n",
    "<b>Do not use string's center method! </b>"
   ]
  },
  {
   "cell_type": "code",
   "execution_count": null,
   "metadata": {},
   "outputs": [],
   "source": [
    "line1 = \"Hickory, dickory, dock,\"\n",
    "line2 = \"The mouse ran up the clock.\"\n",
    "line3 = \"The clock struck one,\"\n",
    "line4 = \"The mouse ran down,\"\n",
    "line5 = \"Hickory, dickory, dock\"\n",
    "\n",
    "note : Its hard to understand. I will check this later- Chetan"
   ]
  },
  {
   "cell_type": "markdown",
   "metadata": {},
   "source": [
    "5. Write a function to calculate the miles per gallon.\n",
    "Get a miles driven and gallons used from a user and call your function to calculate the miles per gallon. "
   ]
  },
  {
   "cell_type": "code",
   "execution_count": 1,
   "metadata": {},
   "outputs": [],
   "source": [
    "def miles_per_gal(miles, gallons) :\n",
    "    mpg = miles / gallons\n",
    "    mpg = round(mpg, 2)\n",
    "    return mpg"
   ]
  },
  {
   "cell_type": "code",
   "execution_count": null,
   "metadata": {},
   "outputs": [],
   "source": [
    "# Disply a title\n",
    "print(\"The Milers Per Gallon Program\\n\")\n",
    "\n",
    "# Get input from the user\n",
    "miles_driven = float(input(\"Enter miles driven:\\t\\t\"))\n",
    "gallons_used = float(input(\"Enter gallons of gas used:\\t\"))\n",
    "\n",
    "mpg = miles_per_gal(miles_driven, gallons_used)\n",
    "\n",
    "# Display the result\n",
    "print(f\"\\nMiles per Gallon:\\t\\t{mpg}\")"
   ]
  }
 ],
 "metadata": {
  "kernelspec": {
   "display_name": "Python 3 (ipykernel)",
   "language": "python",
   "name": "python3"
  },
  "language_info": {
   "codemirror_mode": {
    "name": "ipython",
    "version": 3
   },
   "file_extension": ".py",
   "mimetype": "text/x-python",
   "name": "python",
   "nbconvert_exporter": "python",
   "pygments_lexer": "ipython3",
   "version": "3.9.7"
  }
 },
 "nbformat": 4,
 "nbformat_minor": 4
}
